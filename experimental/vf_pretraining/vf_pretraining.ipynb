{
 "cells": [
  {
   "metadata": {},
   "cell_type": "markdown",
   "source": [
    "## Value Function Pre-training\n",
    "\n",
    "#### In this notebook we:\n",
    "    - Train a value function (VF) with supervised learning\n",
    "    - Use KSP-FF to select actions for the VF pre-training\n",
    "    - Use the pre-rained VF in a PPO agent for the same task\n",
    "    - Compare performance against our baseline agent\n",
    "\n",
    "Using a pre-trained value function is an interesting idea because it might improve the sample efficiency of our PPO agent, thus speeding up training and achieving a better final performance."
   ],
   "id": "6ce51a4dff2be90e"
  },
  {
   "metadata": {},
   "cell_type": "markdown",
   "source": [
    "### Define training function:\n",
    "\n",
    "We define a custom version of PPO to train the VF with heuristic action selection.\n",
    "The main changes compared to PPO are:\n",
    "-   Action selection with heuristic\n",
    "-   Value loss only for loss calculation\n",
    "-   Supervised learning to minimise MSE loss on value prediction"
   ],
   "id": "138254ac7cd0eec5"
  },
  {
   "metadata": {
    "ExecuteTime": {
     "end_time": "2025-03-03T23:17:40.054875Z",
     "start_time": "2025-03-03T23:17:36.002071Z"
    }
   },
   "cell_type": "code",
   "source": [
    "import jax\n",
    "import time\n",
    "import optax\n",
    "import jax.numpy as jnp\n",
    "from absl import flags\n",
    "from flax.training.train_state import TrainState\n",
    "from gymnax.environments import environment\n",
    "from tensorflow_probability.substrates.jax.distributions.student_t import entropy\n",
    "\n",
    "from xlron.environments.env_funcs import process_path_action\n",
    "from xlron.environments.gn_model.isrs_gn_model import to_dbm\n",
    "from xlron.environments.dataclasses import EnvState, EnvParams, VONETransition, RSATransition\n",
    "from xlron.train.train_utils import *\n",
    "\n",
    "\n",
    "def get_vf_pretrain_fn(\n",
    "    env: environment.Environment,\n",
    "    env_params: EnvParams,\n",
    "    train_state: TrainState,\n",
    "    config: flags.FlagValues,\n",
    ") -> Callable:\n",
    "\n",
    "    # TRAIN LOOP\n",
    "    def _update_step(runner_state, unused):\n",
    "        # COLLECT TRAJECTORIES\n",
    "\n",
    "        def _env_step(runner_state, unused):\n",
    "            train_state, env_state, last_obs, rng_step, rng_epoch = runner_state\n",
    "\n",
    "            rng_step, action_key, step_key = jax.random.split(rng_step, 3)\n",
    "            \n",
    "            # SELECT ACTION\n",
    "            action_key = jax.random.split(action_key, config.NUM_ENVS)\n",
    "            select_action_fn = lambda x: select_action_eval(x, env, env_params, train_state, config)\n",
    "            select_action_fn = jax.vmap(select_action_fn)\n",
    "            select_action_state = (action_key, env_state, last_obs)\n",
    "            env_state, action, _, _ = select_action_fn(select_action_state)\n",
    "            \n",
    "            # Get value prediction (we're still training this)\n",
    "            axes = (None, 0, None) if config.USE_GNN else (None, 0)\n",
    "            _, value = jax.vmap(train_state.apply_fn, in_axes=axes)(\n",
    "                train_state.params, *((env_state.env_state, env_params) if config.USE_GNN else tuple([last_obs]))\n",
    "            )\n",
    "\n",
    "            # STEP ENV\n",
    "            step_key = jax.random.split(step_key, config.NUM_ENVS)\n",
    "            step_fn = lambda x, y, z: env.step(x, y, z, env_params)\n",
    "            step_fn = jax.vmap(step_fn)\n",
    "            obsv, env_state, reward, done, info = step_fn(step_key, env_state, action)\n",
    "\n",
    "            obsv = (env_state.env_state, env_params) if config.USE_GNN else tuple([obsv])\n",
    "            log_prob = jnp.zeros(config.NUM_ENVS)\n",
    "            transition = RSATransition(\n",
    "                done, action, value, reward, log_prob, last_obs, info, env_state.env_state.link_slot_mask\n",
    "            )\n",
    "            runner_state = (train_state, env_state, obsv, rng_step, rng_epoch)\n",
    "                \n",
    "            return runner_state, transition\n",
    "\n",
    "        runner_state, traj_batch = jax.lax.scan(\n",
    "            _env_step, runner_state, None, config.ROLLOUT_LENGTH\n",
    "        )\n",
    "        \n",
    "        # CALCULATE RETURNS AND TD TARGETS\n",
    "        train_state, env_state, last_obs, rng_step, rng_epoch = runner_state\n",
    "        last_obs = (env_state.env_state, env_params) if config.USE_GNN else last_obs\n",
    "        axes = (None, 0, None) if config.USE_GNN else (None, 0)\n",
    "        _, last_val = jax.vmap(train_state.apply_fn, in_axes=axes)(train_state.params, *last_obs)\n",
    "\n",
    "        # Calculate GAE as before - this gives us targets for value function\n",
    "        def _calculate_gae(traj_batch, last_val):\n",
    "            def _get_advantages(gae_and_next_value, transition):\n",
    "                gae, next_value = gae_and_next_value\n",
    "                done, value, reward = (\n",
    "                    transition.done,\n",
    "                    transition.value,\n",
    "                    transition.reward,\n",
    "                )\n",
    "                delta = reward + config.GAMMA * next_value * (1 - done) - value\n",
    "                gae = (\n",
    "                    delta\n",
    "                    + config.GAMMA * config.GAE_LAMBDA * (1 - done) * gae\n",
    "                )\n",
    "                return (gae, value), gae\n",
    "\n",
    "            _, advantages = jax.lax.scan(\n",
    "                _get_advantages,\n",
    "                (jnp.zeros_like(last_val), last_val),\n",
    "                traj_batch,\n",
    "                reverse=True,\n",
    "                unroll=True,\n",
    "            )\n",
    "            return advantages, advantages + traj_batch.value\n",
    "\n",
    "        advantages, targets = _calculate_gae(traj_batch, last_val)\n",
    "\n",
    "        # UPDATE VALUE FUNCTION ONLY\n",
    "        def _update_epoch(update_state, unused):\n",
    "\n",
    "            def _update_minbatch(train_state, batch_info):\n",
    "                traj_batch, advantages, targets = batch_info\n",
    "\n",
    "                def _loss_fn(params, traj_batch, targets):\n",
    "                    # RERUN NETWORK FOR VALUE ONLY\n",
    "                    axes = (None, 0, None) if config.USE_GNN else (None, 0)\n",
    "                    _, value = jax.vmap(train_state.apply_fn, in_axes=axes)(params, *traj_batch.obs)\n",
    "\n",
    "                    # CALCULATE VALUE LOSS\n",
    "                    value_losses = jnp.square(value - targets)\n",
    "                    value_loss = 0.5 * value_losses.mean()\n",
    "                    total_loss = value_loss\n",
    "\n",
    "                    return total_loss, (value_loss, )\n",
    "\n",
    "                grad_fn = jax.value_and_grad(_loss_fn, has_aux=True)\n",
    "                total_loss, grads = grad_fn(\n",
    "                    train_state.params, traj_batch, targets\n",
    "                )\n",
    "                train_state = train_state.apply_gradients(grads=grads)\n",
    "                return train_state, total_loss\n",
    "\n",
    "            train_state, traj_batch, advantages, targets, rng_step, rng_epoch = update_state\n",
    "            rng_epoch, perm_key = jax.random.split(rng_epoch, 2)\n",
    "            batch_size = config.MINIBATCH_SIZE * config.NUM_MINIBATCHES\n",
    "            assert (\n",
    "                batch_size == config.ROLLOUT_LENGTH * config.NUM_ENVS\n",
    "            ), \"batch size must be equal to number of steps * number of envs\"\n",
    "            permutation = jax.random.permutation(perm_key, batch_size)\n",
    "            batch = (traj_batch, advantages, targets)\n",
    "            batch = jax.tree.map(\n",
    "                lambda x: x.reshape((batch_size,) + x.shape[2:]), batch\n",
    "            )\n",
    "            shuffled_batch = jax.tree.map(\n",
    "                lambda x: jnp.take(x, permutation, axis=0), batch\n",
    "            )\n",
    "            minibatches = jax.tree.map(\n",
    "                lambda x: jnp.reshape(\n",
    "                    x, [config.NUM_MINIBATCHES, -1] + list(x.shape[1:])\n",
    "                ),\n",
    "                shuffled_batch,\n",
    "            )\n",
    "            train_state, total_loss = jax.lax.scan(\n",
    "                _update_minbatch, train_state, minibatches\n",
    "            )\n",
    "            runner_state = (train_state, traj_batch, advantages, targets, rng_step, rng_epoch)\n",
    "            return runner_state, total_loss\n",
    "\n",
    "        update_state = (train_state, traj_batch, advantages, targets, rng_step, rng_epoch)\n",
    "        update_state, loss_info = jax.lax.scan(\n",
    "            _update_epoch, update_state, None, config.UPDATE_EPOCHS\n",
    "        )\n",
    "        train_state = update_state[0]\n",
    "        metric = traj_batch.info\n",
    "        rng_step = update_state[4]\n",
    "        rng_epoch = update_state[5]\n",
    "        runner_state = (train_state, env_state, last_obs, rng_step, rng_epoch)\n",
    "        loss_info = {\n",
    "            \"loss/total_loss\": loss_info[0].reshape(-1),\n",
    "            \"loss/value_loss\": loss_info[1][0].reshape(-1),\n",
    "        }\n",
    "        return runner_state, (metric, loss_info)\n",
    "\n",
    "    def learner_fn(update_state):\n",
    "        train_state, (metric_info, loss_info) = jax.lax.scan(\n",
    "            _update_step, update_state, None, config.NUM_UPDATES\n",
    "        )\n",
    "        return {\"runner_state\": train_state, \"metrics\": metric_info, \"loss_info\": loss_info}\n",
    "\n",
    "    return learner_fn"
   ],
   "id": "e7aa94ac81ed64ad",
   "outputs": [],
   "execution_count": 1
  },
  {
   "metadata": {},
   "cell_type": "markdown",
   "source": "### Define environment",
   "id": "18ad388b29fdc385"
  },
  {
   "metadata": {
    "ExecuteTime": {
     "end_time": "2025-03-03T23:17:40.072443Z",
     "start_time": "2025-03-03T23:17:40.065393Z"
    }
   },
   "cell_type": "code",
   "source": [
    "import sys\n",
    "from xlron.environments.make_env import *\n",
    "from xlron import parameter_flags\n",
    "\n",
    "# We load the default flags\n",
    "FLAGS = flags.FLAGS\n",
    "\n",
    "total_timesteps = 500000\n",
    "\n",
    "# Then define our experiment...\n",
    "env_config = {\n",
    "    \"env_type\": \"rsa_multiband\",\n",
    "    \"k\": 5,\n",
    "    \"link_resources\": 98,\n",
    "    \"incremental_loading\" : True,\n",
    "    \"end_first_blocking\": True,\n",
    "    \"topology_name\": \"nsfnet_deeprmsa_undirected\",\n",
    "    \"values_bw\": [400],\n",
    "    \"slot_size\": 100,\n",
    "    \"interband_gap_start\": 4800,\n",
    "    \"interband_gap_width\": 200,\n",
    "    \"max_requests\": total_timesteps,\n",
    "    \"modulations_csv_filepath\": \"\",\n",
    "}\n",
    "# The agent config needs to stay the same for pre-training and re-training\n",
    "# TODO - change these to match the hyperparameters from your best sweep run\n",
    "agent_config = {\n",
    "    \"USE_GNN\": True,\n",
    "    \"message_passing_steps\": 3,\n",
    "    \"gnn_latent\": 128,\n",
    "    \"gnn_mlp_layers\": 3,\n",
    "    \"ACTION_MASKING\": True,\n",
    "    \"output_globals_size_critic\": 1,\n",
    "}\n",
    "# ... and training details\n",
    "train_config = {\n",
    "    \"SEED\": 0,\n",
    "    \"NUM_LEARNERS\": 1,\n",
    "    \"TOTAL_TIMESTEPS\": total_timesteps,\n",
    "    \"NUM_ENVS\": 10,\n",
    "    \"ROLLOUT_LENGTH\": 100,\n",
    "    \"UPDATE_EPOCHS\": 5,\n",
    "    \"LR\": 5e-5,\n",
    "    \"GAMMA\": 1.0, # For pre-training the VF, we don't use a discount factor\n",
    "    \"GAE_LAMBDA\": 1.0, # For pre-training the VF, we don't use GAE\n",
    "    \"LR_SCHEDULE\": \"linear\",\n",
    "    \"LAYER_NORM\": True,\n",
    "}\n",
    "\n",
    "# We convert config to a Box container to make items accessible through both dict and dot notation\n",
    "config = process_config(FLAGS, **env_config, **agent_config, **train_config)\n",
    "config"
   ],
   "id": "b0a9a8388c0d0825",
   "outputs": [
    {
     "data": {
      "text/plain": [
       "Box({'logtostderr': False, 'alsologtostderr': False, 'log_dir': '', 'v': -1, 'verbosity': -1, 'logger_levels': {}, 'stderrthreshold': 'fatal', 'showprefixforinfo': True, 'chex_n_cpu_devices': 1, 'chex_assert_multiple_cpu_devices': False, 'run_with_pdb': False, 'pdb_post_mortem': False, 'pdb': False, 'run_with_profiling': False, 'profile_file': None, 'use_cprofile_for_profiling': True, 'only_check_args': False, 'test_srcdir': '', 'test_tmpdir': '/var/folders/5j/8r45ty_x4qj7wn99038f8m1c0000gn/T/absl_testing', 'test_random_seed': 301, 'test_randomize_ordering_seed': '', 'xml_output_file': '', 'chex_skip_pmap_variant_if_single_device': True, 'op_conversion_fallback_to_while_loop': True, 'delta_threshold': 0.5, 'tt_check_filter': False, 'tt_single_core_summaries': False, 'runtime_oom_exit': True, 'hbm_oom_exit': True, 'experimental_orbax_use_distributed_process_id': False, 'SEED': 0, 'NUM_LEARNERS': 1, 'NUM_DEVICES': 1, 'NUM_ENVS': 10, 'ROLLOUT_LENGTH': 100, 'NUM_UPDATES': 1, 'MINIBATCH_SIZE': 1, 'TOTAL_TIMESTEPS': 500000, 'UPDATE_EPOCHS': 5, 'NUM_MINIBATCHES': 1, 'LR': 5e-05, 'GAMMA': 1.0, 'GAE_LAMBDA': 1.0, 'CLIP_EPS': 0.2, 'ENT_COEF': 0.0, 'VF_COEF': 0.5, 'ADAM_EPS': 1e-05, 'ADAM_BETA1': 0.9, 'ADAM_BETA2': 0.999, 'LAYER_NORM': True, 'MAX_GRAD_NORM': 0.5, 'ACTIVATION': 'tanh', 'LR_SCHEDULE': 'linear', 'SCHEDULE_MULTIPLIER': 1, 'WARMUP_PEAK_MULTIPLIER': 1.0, 'WARMUP_STEPS_FRACTION': 0.2, 'WARMUP_END_FRACTION': 0.1, 'NUM_LAYERS': 2, 'NUM_UNITS': 64, 'TEMPERATURE': 1.0, 'VISIBLE_DEVICES': None, 'PREALLOCATE_MEM': True, 'PREALLOCATE_MEM_FRACTION': '0.95', 'PRINT_MEMORY_USE': False, 'WANDB': False, 'SAVE_MODEL': False, 'DEBUG': False, 'DEBUG_NANS': False, 'NO_TRUNCATE': False, 'ORDERED': True, 'NO_PRINT_FLAGS': False, 'MODEL_PATH': None, 'PROJECT': '', 'EXPERIMENT_NAME': '', 'DOWNSAMPLE_FACTOR': 1, 'DISABLE_JIT': False, 'ENABLE_X64': False, 'ACTION_MASKING': True, 'RETRAIN_MODEL': False, 'DATA_OUTPUT_FILE': None, 'TRAJ_DATA_OUTPUT_FILE': None, 'PLOTTING': False, 'EMULATED_DEVICES': None, 'log_actions': False, 'log_path_lengths': False, 'PROFILE': False, 'LOG_LOSS_INFO': False, 'env_type': 'rsa_multiband', 'load': 250.0, 'mean_service_holding_time': 25.0, 'k': 5, 'topology_name': 'nsfnet_deeprmsa_undirected', 'link_resources': 98, 'max_requests': 500000, 'min_bw': 25, 'max_bw': 100, 'step_bw': 1, 'values_bw': [400], 'slot_size': 100, 'incremental_loading': True, 'end_first_blocking': True, 'continuous_operation': False, 'aggregate_slots': 1, 'disjoint_paths': False, 'guardband': 1, 'symbol_rate': 100, 'scale_factor': 1.0, 'weight': None, 'modulations_csv_filepath': '', 'traffic_requests_csv_filepath': None, 'topology_directory': None, 'multiple_topologies_directory': None, 'traffic_intensity': 0.0, 'maximise_throughout': False, 'use_gn_model': False, 'include_isrs': False, 'reward_type': 'service', 'truncate_holding_time': False, 'ENV_WARMUP_STEPS': 0, 'random_traffic': False, 'custom_traffic_matrix_csv_filepath': None, 'alpha': 0.2, 'amplifier_noise_figure': 4.5, 'beta_2': -21.7, 'gamma': 0.0012, 'span_length': 100.0, 'lambda0': 1550.0, 'node_resources': 4, 'virtual_topologies': ['3_ring'], 'min_node_resources': 1, 'max_node_resources': 1, 'node_probs': None, 'EVAL_HEURISTIC': False, 'path_heuristic': 'ksp_ff', 'node_heuristic': 'random', 'USE_GNN': True, 'DISABLE_NODE_FEATURES': False, 'gnn_latent': 128, 'message_passing_steps': 3, 'output_edges_size_actor': 64, 'output_nodes_size_actor': 1, 'output_globals_size_actor': 0, 'output_edges_size_critic': 1, 'output_nodes_size_critic': 1, 'output_globals_size_critic': 1, 'gnn_mlp_layers': 3, 'normalize_by_link_length': False, 'EVAL_MODEL': False, 'model': None, 'min_traffic': '0.0', 'max_traffic': '1.0', 'step_traffic': '0.1', 'deterministic': False, 'ref_lambda': 1.5775e-06, 'launch_power': 0.5, 'launch_power_type': 'fixed', 'nonlinear_coefficient': 0.0012, 'raman_gain_slope': 2.8e-17, 'attenuation': 4.605111673958094e-05, 'attenuation_bar': 4.605111673958094e-05, 'dispersion_coeff': 1.6999999999999996e-05, 'dispersion_slope': 67.0, 'noise_figure': 4.0, 'num_roadms': 1.0, 'roadm_loss': 18.0, 'coherent': False, 'mod_format_correction': False, 'interband_gap_width': 200, 'interband_gap_start': 4800, 'snr_margin': 0.5, 'max_snr': 30.0, 'max_power': 0.5, 'min_power': -5.0, 'step_power': 0.1, 'discrete_launch_power': False, 'last_fit': False, 'GNN_OUTPUT_LP': False, 'GNN_OUTPUT_RSA': False, 'optimise_launch_power': False, 'EVAL_STEPS': 100, 'OPTIMIZATION_ITERATIONS': 5, 'traffic_array': False, 'list_of_requests': None, 'CUTSET_BATCH_SIZE': 1, 'CUTSET_ITERATIONS': 1, 'CUTSET_EXHAUSTIVE': False, 'CUTSET_TOP_K': 50, 'deterministic_requests': False, 'sort_requests': True})"
      ]
     },
     "execution_count": 2,
     "metadata": {},
     "output_type": "execute_result"
    }
   ],
   "execution_count": 2
  },
  {
   "metadata": {},
   "cell_type": "markdown",
   "source": "### Initiate the training",
   "id": "f8260dbf1e97becf"
  },
  {
   "metadata": {
    "jupyter": {
     "is_executing": true
    },
    "ExecuteTime": {
     "start_time": "2025-03-03T23:17:40.102005Z"
    }
   },
   "cell_type": "code",
   "source": [
    "rng = jax.random.PRNGKey(config.SEED)\n",
    "rng = jax.random.split(rng, config.NUM_LEARNERS)\n",
    "\n",
    "NUM_UPDATES = (\n",
    "        config.TOTAL_TIMESTEPS // config.ROLLOUT_LENGTH // config.NUM_ENVS\n",
    ")\n",
    "MINIBATCH_SIZE = (\n",
    "        config.ROLLOUT_LENGTH * config.NUM_ENVS // config.NUM_MINIBATCHES\n",
    ")\n",
    "config.NUM_UPDATES = NUM_UPDATES\n",
    "config.MINIBATCH_SIZE = MINIBATCH_SIZE\n",
    "\n",
    "with TimeIt(tag='COMPILATION'):\n",
    "    print(f\"\\n---BEGINNING COMPILATION---\\n\"\n",
    "          f\"Independent learners: {config.NUM_LEARNERS}\\n\"\n",
    "          f\"Environments per learner: {config.NUM_ENVS}\\n\"\n",
    "          f\"Timesteps per learner: {config.TOTAL_TIMESTEPS}\\n\"\n",
    "          f\"Timesteps per environment: {config.TOTAL_TIMESTEPS // config.NUM_ENVS}\\n\"\n",
    "          f\"Total timesteps: {config.TOTAL_TIMESTEPS * config.NUM_LEARNERS}\\n\"\n",
    "          f\"Total updates: {config.NUM_UPDATES * config.NUM_MINIBATCHES}\\n\"\n",
    "          f\"Batch size: {config.NUM_ENVS * config.ROLLOUT_LENGTH}\\n\"\n",
    "          f\"Minibatch size: {config.MINIBATCH_SIZE}\\n\")\n",
    "\n",
    "    config.EVAL_HEURISTIC = False\n",
    "    experiment_input, env, env_params = jax.vmap(experiment_data_setup, axis_name='learner', in_axes=(None, 0))(config, rng)\n",
    "    config.EVAL_HEURISTIC = True\n",
    "    experiment_fn = get_vf_pretrain_fn(env, env_params, experiment_input[0], config)\n",
    "    run_experiment = jax.jit(jax.vmap(experiment_fn, axis_name='learner')).lower(experiment_input).compile()\n",
    "    config.EVAL_HEURISTIC = False\n",
    "\n",
    "# N.B. that increasing number of learner will increase the number of steps\n",
    "# (essentially training for total_timesteps separately per learner)\n",
    "start_time = time.time()\n",
    "with TimeIt(tag='EXECUTION', frames=config.TOTAL_TIMESTEPS * config.NUM_LEARNERS):\n",
    "    out = run_experiment(experiment_input)\n",
    "    out[\"metrics\"][\"returns\"].block_until_ready()  # Wait for all devices to finish\n",
    "total_time = time.time() - start_time"
   ],
   "id": "22416355fba6b333",
   "outputs": [
    {
     "name": "stdout",
     "output_type": "stream",
     "text": [
      "\n",
      "---BEGINNING COMPILATION---\n",
      "Independent learners: 1\n",
      "Environments per learner: 10\n",
      "Timesteps per learner: 500000\n",
      "Timesteps per environment: 50000\n",
      "Total timesteps: 500000\n",
      "Total updates: 500\n",
      "Batch size: 1000\n",
      "Minibatch size: 1000\n",
      "\n"
     ]
    },
    {
     "name": "stderr",
     "output_type": "stream",
     "text": [
      "<class 'networkx.utils.decorators.argmap'> compilation 8:4: FutureWarning: laplacian_matrix will return a scipy.sparse array instead of a matrix in Networkx 3.0.\n"
     ]
    }
   ],
   "execution_count": null
  },
  {
   "metadata": {
    "ExecuteTime": {
     "end_time": "2025-03-03T23:16:05.411680Z",
     "start_time": "2025-03-03T23:15:59.969602Z"
    }
   },
   "cell_type": "code",
   "source": [
    "# Before saving the model, we want to reset the Actor params to their initial state\n",
    "# First get the initial parameters of the Actor\n",
    "init_rng = jax.random.PRNGKey(config.SEED)\n",
    "experiment_input, _, _ = experiment_data_setup(config, init_rng)\n",
    "initial_train_state = experiment_input[0]\n",
    "initial_actor_params = initial_train_state.params[\"params\"][\"ActorGNN_0\"]"
   ],
   "id": "e27f43d876a98ce5",
   "outputs": [
    {
     "name": "stderr",
     "output_type": "stream",
     "text": [
      "<class 'networkx.utils.decorators.argmap'> compilation 8:4: FutureWarning: laplacian_matrix will return a scipy.sparse array instead of a matrix in Networkx 3.0.\n"
     ]
    }
   ],
   "execution_count": 4
  },
  {
   "metadata": {
    "ExecuteTime": {
     "end_time": "2025-03-03T23:16:05.892625Z",
     "start_time": "2025-03-03T23:16:05.709256Z"
    }
   },
   "cell_type": "code",
   "source": [
    "# Then do the replacement\n",
    "train_state = jax.tree.map(lambda x: x[0], out[\"runner_state\"][0])\n",
    "train_state.params[\"params\"][\"ActorGNN_0\"] = initial_actor_params"
   ],
   "id": "f7bd1446f456f352",
   "outputs": [],
   "execution_count": 5
  },
  {
   "metadata": {},
   "cell_type": "markdown",
   "source": "### Save the model",
   "id": "e3f7de075f0e4b54"
  },
  {
   "metadata": {
    "ExecuteTime": {
     "end_time": "2025-03-03T23:16:06.711704Z",
     "start_time": "2025-03-03T23:16:06.360411Z"
    }
   },
   "cell_type": "code",
   "source": [
    "# Give absolute path \n",
    "config.MODEL_PATH = \"/Users/michaeldoherty/git/XLRON/experimental/vf_pretraining/vf_pretrained\"\n",
    "save_model(train_state, \"VF_PRETRAINED\", config)"
   ],
   "id": "2f8a68b4dfc9a287",
   "outputs": [
    {
     "name": "stdout",
     "output_type": "stream",
     "text": [
      "Saving model to /Users/michaeldoherty/git/XLRON/experimental/vf_pretraining/vf_pretrained_1\n"
     ]
    }
   ],
   "execution_count": 6
  },
  {
   "metadata": {},
   "cell_type": "markdown",
   "source": [
    "### Next we want to manipulate the output data into the shape we need. \n",
    "#### This code is just boiler plate from XLRON, no need to modify it. We use it to take the mean and std dev across the parallel environments, then reshape the data into a series for each metric e.g. service blocking probability."
   ],
   "id": "b8ce1bb98f4e908f"
  },
  {
   "metadata": {
    "ExecuteTime": {
     "end_time": "2025-03-03T23:16:07.699120Z",
     "start_time": "2025-03-03T23:16:07.183665Z"
    }
   },
   "cell_type": "code",
   "source": [
    "def merge_func(x):\n",
    "    # Original dims: (learner, num_updates, rollout_length, num_envs)\n",
    "    # Compute the new shape\n",
    "    learner, num_updates, rollout_length, num_envs = x.shape\n",
    "    new_shape = (learner * num_envs, num_updates, rollout_length)\n",
    "    # Perform a single transpose operation\n",
    "    x = jnp.transpose(x, (0, 3, 1, 2))\n",
    "    # Reshape to merge learner and num_envs dimensions\n",
    "    return x.reshape(new_shape)\n",
    "\n",
    "merged_out, processed_data = process_metrics(config, out, total_time, merge_func)"
   ],
   "id": "44f82c4927604a9b",
   "outputs": [
    {
     "name": "stdout",
     "output_type": "stream",
     "text": [
      "Processing output metrics\n"
     ]
    }
   ],
   "execution_count": 7
  },
  {
   "metadata": {
    "ExecuteTime": {
     "end_time": "2025-03-03T23:16:08.368098Z",
     "start_time": "2025-03-03T23:16:08.172484Z"
    }
   },
   "cell_type": "code",
   "source": [
    "import matplotlib.pyplot as plt\n",
    "value_loss = out[\"loss_info\"][\"loss/value_loss\"].mean(-1).reshape(-1)\n",
    "plt.plot(value_loss)\n",
    "# log scale\n",
    "plt.yscale('log')\n",
    "plt.xlabel(\"Update steps\")\n",
    "plt.ylabel(\"Value loss\")\n",
    "plt.show()"
   ],
   "id": "b741847e54da16d5",
   "outputs": [
    {
     "data": {
      "text/plain": [
       "<Figure size 640x480 with 1 Axes>"
      ],
      "image/png": "[encoded data removed]"
     },
     "metadata": {},
     "output_type": "display_data"
    }
   ],
   "execution_count": 8
  },
  {
   "metadata": {
    "ExecuteTime": {
     "end_time": "2025-03-03T23:16:08.937868Z",
     "start_time": "2025-03-03T23:16:08.891194Z"
    }
   },
   "cell_type": "code",
   "source": [
    "plt.plot(processed_data[\"accepted_services\"][\"episode_end_mean\"])\n",
    "# log scale\n",
    "plt.xlabel(\"Episode\")\n",
    "plt.ylabel(\"Accepted Services\")\n",
    "plt.show()"
   ],
   "id": "6d6b01e1ddf29819",
   "outputs": [
    {
     "data": {
      "text/plain": [
       "<Figure size 640x480 with 1 Axes>"
      ],
      "image/png": "[encoded data removed]"
     },
     "metadata": {},
     "output_type": "display_data"
    }
   ],
   "execution_count": 9
  },
  {
   "metadata": {},
   "cell_type": "code",
   "outputs": [],
   "execution_count": null,
   "source": "# TODO - see what other plots you can make with the processed_data",
   "id": "3ead54df3faab52b"
  },
  {
   "metadata": {},
   "cell_type": "markdown",
   "source": "### Reload the model and train the policy",
   "id": "8f9c5ce2813d8306"
  },
  {
   "metadata": {},
   "cell_type": "markdown",
   "source": "Redefine the training parameters to match the best ones found from the sweep",
   "id": "43ad74eb0cdff0d9"
  },
  {
   "metadata": {
    "ExecuteTime": {
     "end_time": "2025-03-03T23:02:03.507856Z",
     "start_time": "2025-03-03T23:02:03.503585Z"
    }
   },
   "cell_type": "code",
   "source": [
    "import sys\n",
    "from xlron.environments.make_env import *\n",
    "from xlron import parameter_flags\n",
    "\n",
    "# We load the default flags\n",
    "FLAGS = flags.FLAGS\n",
    "\n",
    "# ... and training details\n",
    "# TODO - change these to match the hyperparameters from your best sweep run\n",
    "train_config = {\n",
    "    \"SEED\": 0,\n",
    "    \"NUM_LEARNERS\": 1,\n",
    "    \"TOTAL_TIMESTEPS\": total_timesteps,\n",
    "    \"NUM_ENVS\": 10,\n",
    "    \"ROLLOUT_LENGTH\": 100,\n",
    "    \"UPDATE_EPOCHS\": 5,\n",
    "    \"LR\": 5e-4,\n",
    "    \"GAMMA\": 1.0, # For pre-training the VF, we don't use a discount factor\n",
    "    \"GAE_LAMBDA\": 1.0, # For pre-training the VF, we don't use GAE\n",
    "    \"LR_SCHEDULE\": \"warmup_cosine\",\n",
    "    \"SCHEDULE_MULTIPLIER\": 10,\n",
    "    \"warmup_schedule_multiplier\": 2,\n",
    "    \"LAYER_NORM\": True,\n",
    "}\n",
    "\n",
    "# We convert config to a Box container to make items accessible through both dict and dot notation\n",
    "config = process_config(FLAGS, **env_config, **agent_config, **train_config)\n",
    "config"
   ],
   "id": "6009fad08b194e8b",
   "outputs": [
    {
     "data": {
      "text/plain": [
       "Box({'logtostderr': False, 'alsologtostderr': False, 'log_dir': '', 'v': -1, 'verbosity': -1, 'logger_levels': {}, 'stderrthreshold': 'fatal', 'showprefixforinfo': True, 'chex_n_cpu_devices': 1, 'chex_assert_multiple_cpu_devices': False, 'run_with_pdb': False, 'pdb_post_mortem': False, 'pdb': False, 'run_with_profiling': False, 'profile_file': None, 'use_cprofile_for_profiling': True, 'only_check_args': False, 'test_srcdir': '', 'test_tmpdir': '/var/folders/5j/8r45ty_x4qj7wn99038f8m1c0000gn/T/absl_testing', 'test_random_seed': 301, 'test_randomize_ordering_seed': '', 'xml_output_file': '', 'chex_skip_pmap_variant_if_single_device': True, 'op_conversion_fallback_to_while_loop': True, 'delta_threshold': 0.5, 'tt_check_filter': False, 'tt_single_core_summaries': False, 'runtime_oom_exit': True, 'hbm_oom_exit': True, 'experimental_orbax_use_distributed_process_id': False, 'SEED': 0, 'NUM_LEARNERS': 1, 'NUM_DEVICES': 1, 'NUM_ENVS': 10, 'ROLLOUT_LENGTH': 100, 'NUM_UPDATES': 1, 'MINIBATCH_SIZE': 1, 'TOTAL_TIMESTEPS': 5000, 'UPDATE_EPOCHS': 5, 'NUM_MINIBATCHES': 1, 'LR': 0.0005, 'GAMMA': 1.0, 'GAE_LAMBDA': 1.0, 'CLIP_EPS': 0.2, 'ENT_COEF': 0.0, 'VF_COEF': 0.5, 'ADAM_EPS': 1e-05, 'ADAM_BETA1': 0.9, 'ADAM_BETA2': 0.999, 'LAYER_NORM': True, 'MAX_GRAD_NORM': 0.5, 'ACTIVATION': 'tanh', 'LR_SCHEDULE': 'warmup_cosine', 'SCHEDULE_MULTIPLIER': 10, 'WARMUP_PEAK_MULTIPLIER': 1.0, 'WARMUP_STEPS_FRACTION': 0.2, 'WARMUP_END_FRACTION': 0.1, 'NUM_LAYERS': 2, 'NUM_UNITS': 64, 'TEMPERATURE': 1.0, 'VISIBLE_DEVICES': None, 'PREALLOCATE_MEM': True, 'PREALLOCATE_MEM_FRACTION': '0.95', 'PRINT_MEMORY_USE': False, 'WANDB': False, 'SAVE_MODEL': False, 'DEBUG': False, 'DEBUG_NANS': False, 'NO_TRUNCATE': False, 'ORDERED': True, 'NO_PRINT_FLAGS': False, 'MODEL_PATH': None, 'PROJECT': '', 'EXPERIMENT_NAME': '', 'DOWNSAMPLE_FACTOR': 1, 'DISABLE_JIT': False, 'ENABLE_X64': False, 'ACTION_MASKING': True, 'RETRAIN_MODEL': False, 'DATA_OUTPUT_FILE': None, 'TRAJ_DATA_OUTPUT_FILE': None, 'PLOTTING': False, 'EMULATED_DEVICES': None, 'log_actions': False, 'log_path_lengths': False, 'PROFILE': False, 'LOG_LOSS_INFO': False, 'env_type': 'rsa_multiband', 'load': 250.0, 'mean_service_holding_time': 25.0, 'k': 5, 'topology_name': 'nsfnet_deeprmsa_undirected', 'link_resources': 98, 'max_requests': 5000, 'min_bw': 25, 'max_bw': 100, 'step_bw': 1, 'values_bw': [400], 'slot_size': 100, 'incremental_loading': True, 'end_first_blocking': True, 'continuous_operation': False, 'aggregate_slots': 1, 'disjoint_paths': False, 'guardband': 1, 'symbol_rate': 100, 'scale_factor': 1.0, 'weight': None, 'modulations_csv_filepath': '', 'traffic_requests_csv_filepath': None, 'topology_directory': None, 'multiple_topologies_directory': None, 'traffic_intensity': 0.0, 'maximise_throughout': False, 'use_gn_model': False, 'include_isrs': False, 'reward_type': 'service', 'truncate_holding_time': False, 'ENV_WARMUP_STEPS': 0, 'random_traffic': False, 'custom_traffic_matrix_csv_filepath': None, 'alpha': 0.2, 'amplifier_noise_figure': 4.5, 'beta_2': -21.7, 'gamma': 0.0012, 'span_length': 100.0, 'lambda0': 1550.0, 'node_resources': 4, 'virtual_topologies': ['3_ring'], 'min_node_resources': 1, 'max_node_resources': 1, 'node_probs': None, 'EVAL_HEURISTIC': False, 'path_heuristic': 'ksp_ff', 'node_heuristic': 'random', 'USE_GNN': True, 'DISABLE_NODE_FEATURES': False, 'gnn_latent': 128, 'message_passing_steps': 3, 'output_edges_size_actor': 64, 'output_nodes_size_actor': 1, 'output_globals_size_actor': 0, 'output_edges_size_critic': 1, 'output_nodes_size_critic': 1, 'output_globals_size_critic': 0, 'gnn_mlp_layers': 3, 'normalize_by_link_length': False, 'EVAL_MODEL': False, 'model': None, 'min_traffic': '0.0', 'max_traffic': '1.0', 'step_traffic': '0.1', 'deterministic': False, 'ref_lambda': 1.5775e-06, 'launch_power': 0.5, 'launch_power_type': 'fixed', 'nonlinear_coefficient': 0.0012, 'raman_gain_slope': 2.8e-17, 'attenuation': 4.605111673958094e-05, 'attenuation_bar': 4.605111673958094e-05, 'dispersion_coeff': 1.6999999999999996e-05, 'dispersion_slope': 67.0, 'noise_figure': 4.0, 'num_roadms': 1.0, 'roadm_loss': 18.0, 'coherent': False, 'mod_format_correction': False, 'interband_gap_width': 200, 'interband_gap_start': 4800, 'snr_margin': 0.5, 'max_snr': 30.0, 'max_power': 0.5, 'min_power': -5.0, 'step_power': 0.1, 'discrete_launch_power': False, 'last_fit': False, 'GNN_OUTPUT_LP': False, 'GNN_OUTPUT_RSA': False, 'optimise_launch_power': False, 'EVAL_STEPS': 100, 'OPTIMIZATION_ITERATIONS': 5, 'traffic_array': False, 'list_of_requests': None, 'CUTSET_BATCH_SIZE': 1, 'CUTSET_ITERATIONS': 1, 'CUTSET_EXHAUSTIVE': False, 'CUTSET_TOP_K': 50, 'deterministic_requests': False, 'sort_requests': True, 'warmup_schedule_multiplier': 2})"
      ]
     },
     "execution_count": 43,
     "metadata": {},
     "output_type": "execute_result"
    }
   ],
   "execution_count": 43
  },
  {
   "metadata": {},
   "cell_type": "markdown",
   "source": "### Reload the model and make sure the actor params are reset (but the VF is pre-trained)",
   "id": "2abf1d57cc7a3b3e"
  },
  {
   "metadata": {
    "ExecuteTime": {
     "end_time": "2025-03-03T23:07:27.477339Z",
     "start_time": "2025-03-03T23:07:27.116375Z"
    }
   },
   "cell_type": "code",
   "source": [
    "# Reload the model from file\n",
    "# Then we want to run the training again with the model loaded\n",
    "config.RETRAIN_MODEL = True\n",
    "config.model = None\n",
    "config.MODEL_PATH = \"/Users/michaeldoherty/git/XLRON/experimental/vf_pretraining/vf_pretrained\"\n",
    "\n",
    "# We need to reset the Actor parameters to random\n",
    "orbax_checkpointer = orbax.checkpoint.PyTreeCheckpointer()\n",
    "model = orbax_checkpointer.restore(pathlib.Path(config.MODEL_PATH))\n",
    "# Make sure the actor params have been reset (should have been reset before saving anyway)\n",
    "model[\"model\"][\"params\"][\"ActorGNN_0\"] = initial_actor_params\n",
    "config.model = model\n"
   ],
   "id": "f3a95731e885000",
   "outputs": [
    {
     "name": "stderr",
     "output_type": "stream",
     "text": [
      "/Users/michaeldoherty/Library/Caches/pypoetry/virtualenvs/xlron-QeH3eSKC-py3.11/lib/python3.11/site-packages/orbax/checkpoint/_src/serialization/type_handlers.py:1386: UserWarning: Couldn't find sharding info under RestoreArgs. Populating sharding info from sharding file. Please note restoration time will be slightly increased due to reading from file instead of directly from RestoreArgs. Note also that this option is unsafe when restoring on a different topology than the checkpoint was saved with.\n",
      "  warnings.warn(\n"
     ]
    }
   ],
   "execution_count": 51
  },
  {
   "metadata": {},
   "cell_type": "markdown",
   "source": "### Train the agent",
   "id": "56500affd8c94095"
  },
  {
   "metadata": {
    "ExecuteTime": {
     "end_time": "2025-03-03T23:10:01.308748Z",
     "start_time": "2025-03-03T23:07:46.900312Z"
    }
   },
   "cell_type": "code",
   "source": [
    "from xlron.train.ppo import get_learner_fn\n",
    "\n",
    "rng = jax.random.PRNGKey(config.SEED)\n",
    "rng = jax.random.split(rng, config.NUM_LEARNERS)\n",
    "\n",
    "NUM_UPDATES = (\n",
    "        config.TOTAL_TIMESTEPS // config.ROLLOUT_LENGTH // config.NUM_ENVS\n",
    ")\n",
    "MINIBATCH_SIZE = (\n",
    "        config.ROLLOUT_LENGTH * config.NUM_ENVS // config.NUM_MINIBATCHES\n",
    ")\n",
    "config.NUM_UPDATES = NUM_UPDATES\n",
    "config.MINIBATCH_SIZE = MINIBATCH_SIZE\n",
    "\n",
    "with TimeIt(tag='COMPILATION'):\n",
    "    print(f\"\\n---BEGINNING COMPILATION---\\n\"\n",
    "          f\"Independent learners: {config.NUM_LEARNERS}\\n\"\n",
    "          f\"Environments per learner: {config.NUM_ENVS}\\n\"\n",
    "          f\"Timesteps per learner: {config.TOTAL_TIMESTEPS}\\n\"\n",
    "          f\"Timesteps per environment: {config.TOTAL_TIMESTEPS // config.NUM_ENVS}\\n\"\n",
    "          f\"Total timesteps: {config.TOTAL_TIMESTEPS * config.NUM_LEARNERS}\\n\"\n",
    "          f\"Total updates: {config.NUM_UPDATES * config.NUM_MINIBATCHES}\\n\"\n",
    "          f\"Batch size: {config.NUM_ENVS * config.ROLLOUT_LENGTH}\\n\"\n",
    "          f\"Minibatch size: {config.MINIBATCH_SIZE}\\n\")\n",
    "\n",
    "    experiment_input, env, env_params = jax.vmap(experiment_data_setup, axis_name='learner', in_axes=(None, 0))(config, rng)\n",
    "    # N.B. that we use the PPO here defined in train/ppo.py\n",
    "    experiment_fn = get_learner_fn(env, env_params, experiment_input[0], config)\n",
    "    run_experiment = jax.jit(jax.vmap(experiment_fn, axis_name='learner')).lower(experiment_input).compile()\n",
    "\n",
    "# N.B. that increasing number of learner will increase the number of steps\n",
    "# (essentially training for total_timesteps separately per learner)\n",
    "\n",
    "start_time = time.time()\n",
    "with TimeIt(tag='EXECUTION', frames=config.TOTAL_TIMESTEPS * config.NUM_LEARNERS):\n",
    "    out_retrain = run_experiment(experiment_input)\n",
    "    out_retrain[\"metrics\"][\"returns\"].block_until_ready()  # Wait for all devices to finish\n",
    "total_time = time.time() - start_time"
   ],
   "id": "d446ba03b0125dc5",
   "outputs": [
    {
     "name": "stdout",
     "output_type": "stream",
     "text": [
      "\n",
      "---BEGINNING COMPILATION---\n",
      "Independent learners: 1\n",
      "Environments per learner: 10\n",
      "Timesteps per learner: 5000\n",
      "Timesteps per environment: 500\n",
      "Total timesteps: 5000\n",
      "Total updates: 5\n",
      "Batch size: 1000\n",
      "Minibatch size: 1000\n",
      "\n"
     ]
    },
    {
     "name": "stderr",
     "output_type": "stream",
     "text": [
      "<class 'networkx.utils.decorators.argmap'> compilation 8:4: FutureWarning: laplacian_matrix will return a scipy.sparse array instead of a matrix in Networkx 3.0.\n"
     ]
    },
    {
     "name": "stdout",
     "output_type": "stream",
     "text": [
      "Retraining model\n",
      "COMPILATION: Elapsed time=33.84s\n",
      "EXECUTION: Elapsed time=100.51s, FPS=4.97e+01\n"
     ]
    }
   ],
   "execution_count": 53
  },
  {
   "metadata": {
    "ExecuteTime": {
     "end_time": "2025-03-03T23:10:03.045418Z",
     "start_time": "2025-03-03T23:10:02.215027Z"
    }
   },
   "cell_type": "code",
   "source": [
    "train_state = jax.tree.map(lambda x: x[0], out_retrain[\"runner_state\"][0])\n",
    "config.MODEL_PATH = \"/Users/michaeldoherty/git/XLRON/experimental/vf_pretraining/retrained_model\"\n",
    "save_model(initial_train_state, \"retrained_model\", config)"
   ],
   "id": "e36e070f3f8e3db9",
   "outputs": [
    {
     "name": "stdout",
     "output_type": "stream",
     "text": [
      "Saving model to /Users/michaeldoherty/git/XLRON/experimental/vf_pretraining/retrained_model_1\n"
     ]
    }
   ],
   "execution_count": 54
  },
  {
   "metadata": {
    "ExecuteTime": {
     "end_time": "2025-03-03T23:10:03.075469Z",
     "start_time": "2025-03-03T23:10:03.051435Z"
    }
   },
   "cell_type": "code",
   "source": [
    "merged_out_retrain, processed_data_retrain = process_metrics(config, out_retrain, total_time, merge_func)\n",
    "processed_data_retrain[\"accepted_services\"].keys()"
   ],
   "id": "30d5f92de72f7db9",
   "outputs": [
    {
     "name": "stdout",
     "output_type": "stream",
     "text": [
      "Processing output metrics\n"
     ]
    },
    {
     "data": {
      "text/plain": [
       "dict_keys(['mean', 'std', 'iqr_upper', 'iqr_lower', 'episode_end_mean', 'episode_end_std', 'episode_end_iqr_upper', 'episode_end_iqr_lower'])"
      ]
     },
     "execution_count": 55,
     "metadata": {},
     "output_type": "execute_result"
    }
   ],
   "execution_count": 55
  },
  {
   "metadata": {
    "ExecuteTime": {
     "end_time": "2025-03-03T23:10:03.853535Z",
     "start_time": "2025-03-03T23:10:03.792219Z"
    }
   },
   "cell_type": "code",
   "source": [
    "import matplotlib.pyplot as plt\n",
    "plt.plot(processed_data_retrain[\"accepted_services\"][\"episode_end_mean\"])\n",
    "# log scale\n",
    "plt.xlabel(\"Episode\")\n",
    "plt.ylabel(\"Accepted Services\")\n",
    "plt.show()"
   ],
   "id": "3af430a8aac11c13",
   "outputs": [
    {
     "data": {
      "text/plain": [
       "<Figure size 640x480 with 1 Axes>"
      ],
      "image/png": "[encoded data removed]"
     },
     "metadata": {},
     "output_type": "display_data"
    }
   ],
   "execution_count": 56
  },
  {
   "metadata": {},
   "cell_type": "code",
   "outputs": [],
   "execution_count": null,
   "source": "# TODO - see what other plots you can make with the processed_data and loss metrics",
   "id": "456ebf1dccbdc691"
  }
 ],
 "metadata": {
  "kernelspec": {
   "display_name": "Python 3",
   "language": "python",
   "name": "python3"
  },
  "language_info": {
   "codemirror_mode": {
    "name": "ipython",
    "version": 2
   },
   "file_extension": ".py",
   "mimetype": "text/x-python",
   "name": "python",
   "nbconvert_exporter": "python",
   "pygments_lexer": "ipython2",
   "version": "2.7.6"
  }
 },
 "nbformat": 4,
 "nbformat_minor": 5
}
