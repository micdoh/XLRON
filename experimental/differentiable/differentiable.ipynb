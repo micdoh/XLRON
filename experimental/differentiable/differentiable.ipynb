{
 "cells": [
  {
   "cell_type": "code",
   "execution_count": null,
   "id": "initial_id",
   "metadata": {
    "collapsed": true
   },
   "outputs": [],
   "source": [
    "# TODO - device a strategy to check the gradients provided by each of the main components of the sim.\n",
    "# TODO - suggest starting with RWA environment (5 nodes, 4 slots per link) with incremental loading\n",
    "# TODO - it might be advisable to start a new test file that contains all the gradient checks.\n",
    "# TODO - implement a template test to check the gradients of a function\n",
    "# TODO - need to consider any possible edges cases e.g. allocation failure/success, fully masked slots, etc.\n",
    "# TODO - need to first of all check the gradients returned by each of the main component functions:\n",
    "# implement\n",
    "# check\n",
    "# undo\n",
    "# finalise\n",
    "# generate_request\n",
    "# get_reward_failure\n",
    "# get_reward_success\n",
    "# get_action_mask\n",
    "# reset\n",
    "# step\n",
    "# heuristics\n",
    "# TODO - testing the larger components should reveal issue with subfunctions e.g. get paths, get path slots, etc."
   ]
  }
 ],
 "metadata": {
  "kernelspec": {
   "display_name": "Python 3",
   "language": "python",
   "name": "python3"
  },
  "language_info": {
   "codemirror_mode": {
    "name": "ipython",
    "version": 2
   },
   "file_extension": ".py",
   "mimetype": "text/x-python",
   "name": "python",
   "nbconvert_exporter": "python",
   "pygments_lexer": "ipython2",
   "version": "2.7.6"
  }
 },
 "nbformat": 4,
 "nbformat_minor": 5
}
