{
 "cells": [
  {
   "cell_type": "code",
   "id": "initial_id",
   "metadata": {
    "collapsed": true,
    "ExecuteTime": {
     "end_time": "2025-03-07T15:02:35.998090Z",
     "start_time": "2025-03-07T15:02:35.992583Z"
    }
   },
   "source": [
    "# TODO - device a strategy to check the gradients provided by each of the main components of the sim.\n",
    "# TODO - suggest starting with RWA environment (5 nodes, 4 slots per link) with incremental loading\n",
    "# TODO - it might be advisable to start a new test file that contains all the gradient checks.\n",
    "# TODO - implement a template test to check the gradients of a function\n",
    "# TODO - need to consider any possible edges cases e.g. allocation failure/success, fully masked slots, etc.\n",
    "# TODO - need to first of all check the gradients returned by each of the main component functions:\n",
    "# implement\n",
    "# check\n",
    "# undo\n",
    "# finalise\n",
    "# generate_request\n",
    "# get_reward_failure\n",
    "# get_reward_success\n",
    "# get_action_mask\n",
    "# reset\n",
    "# step\n",
    "# heuristics\n",
    "# TODO - testing the larger components should reveal issue with subfunctions e.g. get paths, get path slots, etc."
   ],
   "outputs": [],
   "execution_count": 1
  },
  {
   "metadata": {
    "ExecuteTime": {
     "end_time": "2025-03-07T15:06:24.063724Z",
     "start_time": "2025-03-07T15:06:24.056212Z"
    }
   },
   "cell_type": "code",
   "source": [
    "import jax\n",
    "import time\n",
    "import optax\n",
    "import jax.numpy as jnp\n",
    "from absl import flags\n",
    "from flax.training.train_state import TrainState\n",
    "from gymnax.environments import environment\n",
    "from tensorflow_probability.substrates.jax.distributions.student_t import entropy\n",
    "\n",
    "from xlron.environments.env_funcs import process_path_action\n",
    "from xlron.environments.gn_model.isrs_gn_model import to_dbm\n",
    "from xlron.environments.dataclasses import EnvState, EnvParams, VONETransition, RSATransition\n",
    "from xlron.train.train_utils import *\n",
    "import sys\n",
    "from xlron.environments.make_env import *\n",
    "from xlron import parameter_flags\n",
    "\n",
    "# We load the default flags\n",
    "FLAGS = flags.FLAGS\n",
    "\n",
    "total_timesteps = 10\n",
    "\n",
    "# Then define our experiment...\n",
    "env_config = {\n",
    "    \"env_type\": \"rwa\",\n",
    "    \"k\": 3,\n",
    "    \"link_resources\": 4,\n",
    "    \"incremental_loading\" : True,\n",
    "    \"end_first_blocking\": True,\n",
    "    \"topology_name\": \"5node_undirected\",\n",
    "    \"values_bw\": [1],\n",
    "    \"slot_size\": 1,\n",
    "    \"max_requests\": total_timesteps,\n",
    "}\n",
    "\n",
    "# ... and training details\n",
    "train_config = {\n",
    "    \"SEED\": 0,\n",
    "    \"NUM_LEARNERS\": 1,\n",
    "    \"TOTAL_TIMESTEPS\": total_timesteps,\n",
    "    \"NUM_ENVS\": 1,\n",
    "    \"ROLLOUT_LENGTH\": 5,\n",
    "    \"UPDATE_EPOCHS\": 2,\n",
    "    \"LR\": 5e-5,\n",
    "    \"GAMMA\": 1.0, # For pre-training the VF, we don't use a discount factor\n",
    "    \"GAE_LAMBDA\": 1.0, # For pre-training the VF, we don't use GAE\n",
    "    \"LR_SCHEDULE\": \"linear\",\n",
    "    \"LAYER_NORM\": True,\n",
    "}\n",
    "\n",
    "# We convert config to a Box container to make items accessible through both dict and dot notation\n",
    "config = process_config(FLAGS, **env_config, **train_config)\n",
    "config"
   ],
   "id": "958efb0736754abf",
   "outputs": [
    {
     "data": {
      "text/plain": [
       "Box({'logtostderr': False, 'alsologtostderr': False, 'log_dir': '', 'v': -1, 'verbosity': -1, 'logger_levels': {}, 'stderrthreshold': 'fatal', 'showprefixforinfo': True, 'chex_n_cpu_devices': 1, 'chex_assert_multiple_cpu_devices': False, 'run_with_pdb': False, 'pdb_post_mortem': False, 'pdb': False, 'run_with_profiling': False, 'profile_file': None, 'use_cprofile_for_profiling': True, 'only_check_args': False, 'test_srcdir': '', 'test_tmpdir': '/var/folders/5j/8r45ty_x4qj7wn99038f8m1c0000gn/T/absl_testing', 'test_random_seed': 301, 'test_randomize_ordering_seed': '', 'xml_output_file': '', 'chex_skip_pmap_variant_if_single_device': True, 'op_conversion_fallback_to_while_loop': True, 'delta_threshold': 0.5, 'tt_check_filter': False, 'tt_single_core_summaries': False, 'runtime_oom_exit': True, 'hbm_oom_exit': True, 'experimental_orbax_use_distributed_process_id': False, 'SEED': 0, 'NUM_LEARNERS': 1, 'NUM_DEVICES': 1, 'NUM_ENVS': 1, 'ROLLOUT_LENGTH': 5, 'NUM_UPDATES': 1, 'MINIBATCH_SIZE': 1, 'TOTAL_TIMESTEPS': 10, 'UPDATE_EPOCHS': 2, 'NUM_MINIBATCHES': 1, 'LR': 5e-05, 'GAMMA': 1.0, 'GAE_LAMBDA': 1.0, 'CLIP_EPS': 0.2, 'ENT_COEF': 0.0, 'VF_COEF': 0.5, 'ADAM_EPS': 1e-05, 'ADAM_BETA1': 0.9, 'ADAM_BETA2': 0.999, 'LAYER_NORM': True, 'MAX_GRAD_NORM': 0.5, 'ACTIVATION': 'tanh', 'LR_SCHEDULE': 'linear', 'SCHEDULE_MULTIPLIER': 1, 'WARMUP_PEAK_MULTIPLIER': 1.0, 'WARMUP_STEPS_FRACTION': 0.2, 'WARMUP_END_FRACTION': 0.1, 'NUM_LAYERS': 2, 'NUM_UNITS': 64, 'TEMPERATURE': 1.0, 'VISIBLE_DEVICES': None, 'PREALLOCATE_MEM': True, 'PREALLOCATE_MEM_FRACTION': '0.95', 'PRINT_MEMORY_USE': False, 'WANDB': False, 'SAVE_MODEL': False, 'DEBUG': False, 'DEBUG_NANS': False, 'NO_TRUNCATE': False, 'ORDERED': True, 'NO_PRINT_FLAGS': False, 'MODEL_PATH': None, 'PROJECT': '', 'EXPERIMENT_NAME': '', 'DOWNSAMPLE_FACTOR': 1, 'DISABLE_JIT': False, 'ENABLE_X64': False, 'ACTION_MASKING': False, 'RETRAIN_MODEL': False, 'DATA_OUTPUT_FILE': None, 'TRAJ_DATA_OUTPUT_FILE': None, 'PLOTTING': False, 'EMULATED_DEVICES': None, 'log_actions': False, 'log_path_lengths': False, 'PROFILE': False, 'LOG_LOSS_INFO': False, 'env_type': 'rwa', 'load': 250.0, 'mean_service_holding_time': 25.0, 'k': 3, 'topology_name': '5node_undirected', 'link_resources': 4, 'max_requests': 10, 'min_bw': 25, 'max_bw': 100, 'step_bw': 1, 'values_bw': [1], 'slot_size': 1, 'incremental_loading': True, 'end_first_blocking': True, 'continuous_operation': False, 'aggregate_slots': 1, 'disjoint_paths': False, 'guardband': 1, 'symbol_rate': 100, 'scale_factor': 1.0, 'weight': None, 'modulations_csv_filepath': './xlron/data/modulations/modulations_deeprmsa.csv', 'traffic_requests_csv_filepath': None, 'topology_directory': None, 'multiple_topologies_directory': None, 'traffic_intensity': 0.0, 'maximise_throughout': False, 'use_gn_model': False, 'include_isrs': False, 'reward_type': 'service', 'truncate_holding_time': False, 'ENV_WARMUP_STEPS': 0, 'random_traffic': False, 'custom_traffic_matrix_csv_filepath': None, 'alpha': 0.2, 'amplifier_noise_figure': 4.5, 'beta_2': -21.7, 'gamma': 0.0012, 'span_length': 100.0, 'lambda0': 1550.0, 'node_resources': 4, 'virtual_topologies': ['3_ring'], 'min_node_resources': 1, 'max_node_resources': 1, 'node_probs': None, 'EVAL_HEURISTIC': False, 'path_heuristic': 'ksp_ff', 'node_heuristic': 'random', 'USE_GNN': False, 'DISABLE_NODE_FEATURES': False, 'gnn_latent': 64, 'message_passing_steps': 3, 'output_edges_size_actor': 64, 'output_nodes_size_actor': 1, 'output_globals_size_actor': 0, 'output_edges_size_critic': 1, 'output_nodes_size_critic': 1, 'output_globals_size_critic': 0, 'gnn_mlp_layers': 2, 'normalize_by_link_length': False, 'EVAL_MODEL': False, 'model': None, 'min_traffic': '0.0', 'max_traffic': '1.0', 'step_traffic': '0.1', 'deterministic': False, 'ref_lambda': 1.5775e-06, 'launch_power': 0.5, 'launch_power_type': 'fixed', 'nonlinear_coefficient': 0.0012, 'raman_gain_slope': 2.8e-17, 'attenuation': 4.605111673958094e-05, 'attenuation_bar': 4.605111673958094e-05, 'dispersion_coeff': 1.6999999999999996e-05, 'dispersion_slope': 67.0, 'noise_figure': 4.0, 'num_roadms': 1.0, 'roadm_loss': 18.0, 'coherent': False, 'mod_format_correction': False, 'interband_gap_width': 400.0, 'interband_gap_start': 5500, 'snr_margin': 0.5, 'max_snr': 30.0, 'max_power': 0.5, 'min_power': -5.0, 'step_power': 0.1, 'discrete_launch_power': False, 'last_fit': False, 'GNN_OUTPUT_LP': False, 'GNN_OUTPUT_RSA': False, 'optimise_launch_power': False, 'EVAL_STEPS': 100, 'OPTIMIZATION_ITERATIONS': 5, 'traffic_array': False, 'list_of_requests': None, 'CUTSET_BATCH_SIZE': 1, 'CUTSET_ITERATIONS': 1, 'CUTSET_EXHAUSTIVE': False, 'CUTSET_TOP_K': 50, 'deterministic_requests': False, 'sort_requests': True})"
      ]
     },
     "execution_count": 7,
     "metadata": {},
     "output_type": "execute_result"
    }
   ],
   "execution_count": 7
  },
  {
   "metadata": {
    "ExecuteTime": {
     "end_time": "2025-03-07T15:10:06.833233Z",
     "start_time": "2025-03-07T15:10:06.609505Z"
    }
   },
   "cell_type": "code",
   "source": [
    "# INIT ENV\n",
    "env, env_params = make(config)\n",
    "rng = jax.random.PRNGKey(config.SEED)\n",
    "rng, step_key, reset_key = jax.random.split(rng, 3)\n",
    "obsv, env_state = env.reset(reset_key, env_params)"
   ],
   "id": "cced82bdbb73c62c",
   "outputs": [
    {
     "name": "stderr",
     "output_type": "stream",
     "text": [
      "<class 'networkx.utils.decorators.argmap'> compilation 8:4: FutureWarning: laplacian_matrix will return a scipy.sparse array instead of a matrix in Networkx 3.0.\n"
     ]
    }
   ],
   "execution_count": 18
  },
  {
   "metadata": {
    "ExecuteTime": {
     "end_time": "2025-03-07T15:10:07.714448Z",
     "start_time": "2025-03-07T15:10:07.525022Z"
    }
   },
   "cell_type": "code",
   "source": [
    "from gymnax.wrappers import GymnaxToGymWrapper\n",
    "gym_env = GymnaxToGymWrapper(env._env, env_params)"
   ],
   "id": "996f9fd2e3cdab8",
   "outputs": [],
   "execution_count": 19
  },
  {
   "metadata": {
    "ExecuteTime": {
     "end_time": "2025-03-07T15:18:13.153594Z",
     "start_time": "2025-03-07T15:18:13.150337Z"
    }
   },
   "cell_type": "code",
   "source": [
    "\n",
    "        "
   ],
   "id": "fbf4b78bd09857ea",
   "outputs": [
    {
     "data": {
      "text/plain": [
       "Discrete(12)"
      ]
     },
     "execution_count": 49,
     "metadata": {},
     "output_type": "execute_result"
    }
   ],
   "execution_count": 49
  },
  {
   "metadata": {},
   "cell_type": "code",
   "outputs": [],
   "execution_count": null,
   "source": "",
   "id": "cdfd7518420e9754"
  }
 ],
 "metadata": {
  "kernelspec": {
   "display_name": "Python 3",
   "language": "python",
   "name": "python3"
  },
  "language_info": {
   "codemirror_mode": {
    "name": "ipython",
    "version": 2
   },
   "file_extension": ".py",
   "mimetype": "text/x-python",
   "name": "python",
   "nbconvert_exporter": "python",
   "pygments_lexer": "ipython2",
   "version": "2.7.6"
  }
 },
 "nbformat": 4,
 "nbformat_minor": 5
}
